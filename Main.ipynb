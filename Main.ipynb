{
 "cells": [
  {
   "cell_type": "code",
   "execution_count": 1,
   "metadata": {},
   "outputs": [],
   "source": [
    "import librosa"
   ]
  },
  {
   "cell_type": "code",
   "execution_count": 20,
   "metadata": {},
   "outputs": [
    {
     "name": "stdout",
     "output_type": "stream",
     "text": [
      "1.17.4\n",
      "1.0.1.post2\n",
      "0.2.2\n"
     ]
    }
   ],
   "source": [
    "# import some libraries you maybe use\n",
    "import torchvision # an useful library to help I/O (highly recommend). To install this, just do \"pip install torchvision\"\n",
    "import torch\n",
    "import torch.optim as optim\n",
    "import torch.nn as nn\n",
    "import torch.nn.functional as F\n",
    "import numpy as np\n",
    "print(np.__version__)\n",
    "print(torch.__version__)\n",
    "print(torchvision.__version__)\n",
    "import os\n",
    "import visdom\n",
    "import scipy\n",
    "from utils.plot_cm import plot_cm"
   ]
  },
  {
   "cell_type": "code",
   "execution_count": 3,
   "metadata": {},
   "outputs": [],
   "source": [
    "batch_size = 100"
   ]
  },
  {
   "cell_type": "code",
   "execution_count": 4,
   "metadata": {},
   "outputs": [],
   "source": [
    "ROOT_DIR = './results'\n",
    "TRAINING_NAME = 'resnet50_phase_decay_norm_pad'\n",
    "OUTPUT_DIR = os.path.join(ROOT_DIR, TRAINING_NAME)\n",
    "MODEL_PATH = os.path.join(OUTPUT_DIR, 'weight.pth')\n",
    "ACC_MODEL_PATH = os.path.join(OUTPUT_DIR, 'weight_acc.pth')\n",
    "RESULT_PATH = os.path.join(OUTPUT_DIR, 'result.csv')\n",
    "NP_PATH =  os.path.join(OUTPUT_DIR, 'raw_result.npy')\n",
    "LOG_PATH = os.path.join(OUTPUT_DIR, 'log')\n",
    "FIG_PATH = os.path.join(OUTPUT_DIR, 'cm.png')"
   ]
  },
  {
   "cell_type": "code",
   "execution_count": 5,
   "metadata": {},
   "outputs": [],
   "source": [
    "if not os.path.exists(OUTPUT_DIR):\n",
    "    os.makedirs(OUTPUT_DIR)\n",
    "log = open(LOG_PATH, \"w+\")"
   ]
  },
  {
   "cell_type": "markdown",
   "metadata": {},
   "source": [
    "# Data loading and preprocessing\n",
    "In order to train the model with training data, the first step is to read the data from your folder, database, etc. The below is just an example."
   ]
  },
  {
   "cell_type": "code",
   "execution_count": 6,
   "metadata": {},
   "outputs": [],
   "source": [
    "from torchvision.datasets import ImageFolder, DatasetFolder\n",
    "from torchvision.transforms import Compose, ToTensor, Grayscale, Resize, Normalize\n",
    "from torch.utils.data import DataLoader\n",
    "import os\n",
    "# Define path to your dataset\n",
    "dataset = \"./data\" # the root folder\n",
    "trainpath = os.path.join(dataset,\"train\") # train set\n",
    "valpath = os.path.join(dataset,\"val\") # validation set\n",
    "def pad(raw):\n",
    "    ex = np.zeros((22050,))\n",
    "    ex[:len(raw)] = raw\n",
    "    return ex\n",
    "\n",
    "#cut = lambda x: x[-11025:]\n",
    "#cut_front = lambda x: x[:11025]\n",
    "norm =  lambda x: (x.astype(np.float32) / (np.max(x)+1e-6))*0.5\n",
    "spct = lambda x: scipy.signal.spectrogram(x ,fs= 10e3,mode='phase')[2] #overlap\n",
    "tri = lambda x: [x, x, x]\n",
    "totensor = lambda x: torch.Tensor(x)\n",
    "\n",
    "tsfm = Compose([\n",
    "        pad, # rescale to -1 to 1\n",
    "        norm, # rescale to -1 to 1\n",
    "        spct, # MFCC \n",
    "        tri,\n",
    "        totensor\n",
    "        ])\n",
    "\n",
    "nploader = np.load\n"
   ]
  },
  {
   "cell_type": "code",
   "execution_count": 7,
   "metadata": {},
   "outputs": [],
   "source": [
    "traindata = DatasetFolder(root=trainpath, loader=nploader, transform=tsfm, extensions=['npy'])\n",
    "valdata = DatasetFolder(root=valpath, loader=nploader, transform=tsfm, extensions=['npy'])\n",
    "\n",
    "# Create a loader\n",
    "trainloader = DataLoader(traindata,batch_size=batch_size,shuffle=True, pin_memory=True, num_workers=6)\n",
    "valloader = DataLoader(valdata,batch_size=batch_size,shuffle=True,  pin_memory=True, num_workers=6)"
   ]
  },
  {
   "cell_type": "code",
   "execution_count": 8,
   "metadata": {},
   "outputs": [
    {
     "name": "stdout",
     "output_type": "stream",
     "text": [
      "['Frog1', 'Frog2', 'Frog3', 'Grylloidea1', 'Grylloidea2', 'Tettigonioidea1', 'Tettigonioidea2', 'drums_FloorTom', 'drums_HiHat', 'drums_Kick', 'drums_MidTom', 'drums_Ride', 'drums_Rim', 'drums_SmallTom', 'drums_Snare', 'guitar_3rd_fret', 'guitar_7th_fret', 'guitar_9th_fret', 'guitar_chord1', 'guitar_chord2']\n",
      "{'Frog1': 0, 'Frog2': 1, 'Frog3': 2, 'Grylloidea1': 3, 'Grylloidea2': 4, 'Tettigonioidea1': 5, 'Tettigonioidea2': 6, 'drums_FloorTom': 7, 'drums_HiHat': 8, 'drums_Kick': 9, 'drums_MidTom': 10, 'drums_Ride': 11, 'drums_Rim': 12, 'drums_SmallTom': 13, 'drums_Snare': 14, 'guitar_3rd_fret': 15, 'guitar_7th_fret': 16, 'guitar_9th_fret': 17, 'guitar_chord1': 18, 'guitar_chord2': 19}\n"
     ]
    }
   ],
   "source": [
    "print(traindata.classes) # show all classes\n",
    "print(traindata.class_to_idx) # show the mapping from class to index."
   ]
  },
  {
   "cell_type": "code",
   "execution_count": 9,
   "metadata": {},
   "outputs": [
    {
     "name": "stdout",
     "output_type": "stream",
     "text": [
      "{0: 'Frog1', 1: 'Frog2', 2: 'Frog3', 3: 'Grylloidea1', 4: 'Grylloidea2', 5: 'Tettigonioidea1', 6: 'Tettigonioidea2', 7: 'drums_FloorTom', 8: 'drums_HiHat', 9: 'drums_Kick', 10: 'drums_MidTom', 11: 'drums_Ride', 12: 'drums_Rim', 13: 'drums_SmallTom', 14: 'drums_Snare', 15: 'guitar_3rd_fret', 16: 'guitar_7th_fret', 17: 'guitar_9th_fret', 18: 'guitar_chord1', 19: 'guitar_chord2'}\n"
     ]
    }
   ],
   "source": [
    "idx_to_class = {val: key for key, val in traindata.class_to_idx.items()} # build an inverse mapping for later use\n",
    "print(idx_to_class)"
   ]
  },
  {
   "cell_type": "code",
   "execution_count": 10,
   "metadata": {},
   "outputs": [],
   "source": [
    "correct_idx2class = {9: 'Frog1', 10: 'Frog2', 19: 'Frog3', 3: 'Grylloidea1', 14: 'Grylloidea2', 0: 'Tettigonioidea1', 1: 'Tettigonioidea2', 11: 'drums_FloorTom', 5: 'drums_HiHat', 6: 'drums_Kick', 4: 'drums_MidTom', 16: 'drums_Ride', 13: 'drums_Rim', 7: 'drums_SmallTom', 2: 'drums_Snare', 15: 'guitar_3rd_fret', 12: 'guitar_7th_fret', 18: 'guitar_9th_fret', 17: 'guitar_chord1', 8: 'guitar_chord2'}\n",
    "#print(correct_idx2class)"
   ]
  },
  {
   "cell_type": "code",
   "execution_count": 11,
   "metadata": {},
   "outputs": [],
   "source": [
    "correct_class2idx = {val: key for key, val in correct_idx2class.items()}\n",
    "#print(correct_class2idx)"
   ]
  },
  {
   "cell_type": "code",
   "execution_count": 12,
   "metadata": {},
   "outputs": [
    {
     "name": "stdout",
     "output_type": "stream",
     "text": [
      "{0: 9, 1: 10, 2: 19, 3: 3, 4: 14, 5: 0, 6: 1, 7: 11, 8: 5, 9: 6, 10: 4, 11: 16, 12: 13, 13: 7, 14: 2, 15: 15, 16: 12, 17: 18, 18: 17, 19: 8}\n"
     ]
    }
   ],
   "source": [
    "corrected_idx2idx = {val: correct_class2idx[key] for key, val in traindata.class_to_idx.items()}\n",
    "print(corrected_idx2idx)"
   ]
  },
  {
   "cell_type": "markdown",
   "metadata": {},
   "source": [
    "# Build an example network\n",
    "If you're unfamiliar with this part, please see the HW1 tutorial."
   ]
  },
  {
   "cell_type": "code",
   "execution_count": 13,
   "metadata": {},
   "outputs": [],
   "source": [
    "import utils.resnet as resnet\n",
    "model =resnet.resnet50(num_classes= len(traindata.classes))"
   ]
  },
  {
   "cell_type": "code",
   "execution_count": 14,
   "metadata": {},
   "outputs": [
    {
     "name": "stdout",
     "output_type": "stream",
     "text": [
      "use cuda now!\n"
     ]
    }
   ],
   "source": [
    "#net = Net(num_classes=len(traindata.classes)) # initialize your network\n",
    "net = model\n",
    "# Whether to use GPU or not?\n",
    "device = 'cpu'\n",
    "if torch.cuda.is_available():\n",
    "    device = 'cuda'\n",
    "else: \n",
    "    device = 'cpu'\n",
    "print(\"use\",device,\"now!\")\n",
    "net.to(device)\n",
    "optimizer = optim.Adam(net.parameters(), lr=0.01) # setup your optimizer\n",
    "#optimizer = optim.SGD(net.parameters(), lr=0.05)\n",
    "criterion = nn.CrossEntropyLoss() # setup your criterion\n",
    "\n",
    "lambda1 = lambda epoch: epoch // 15\n",
    "#scheduler = torch.optim.lr_scheduler.LambdaLR(optimizer, lr_lambda=[lambda1])\n",
    "scheduler = torch.optim.lr_scheduler.StepLR(optimizer, step_size=10, gamma=0.9) #0.1->0.8"
   ]
  },
  {
   "cell_type": "markdown",
   "metadata": {},
   "source": [
    "# Train the model with the data"
   ]
  },
  {
   "cell_type": "code",
   "execution_count": 15,
   "metadata": {},
   "outputs": [],
   "source": [
    "def save_model(model,filename):\n",
    "    state = model.state_dict()\n",
    "    for key in state: state[key] = state[key].clone().cpu()\n",
    "    torch.save(state, filename)\n",
    "#save_model(net,\"weight.pth\")\n"
   ]
  },
  {
   "cell_type": "code",
   "execution_count": 16,
   "metadata": {},
   "outputs": [
    {
     "name": "stderr",
     "output_type": "stream",
     "text": [
      "Setting up a new session...\n"
     ]
    }
   ],
   "source": [
    "import utils.visdoms as visdoms\n",
    "plotter = visdoms.VisdomLinePlotter(env_name=TRAINING_NAME)"
   ]
  },
  {
   "cell_type": "code",
   "execution_count": 17,
   "metadata": {},
   "outputs": [
    {
     "name": "stdout",
     "output_type": "stream",
     "text": [
      "....................................................................................................................................Val Acc: 0.271515\n",
      "epoch 1, lr 0.010000, loss: 1.9194, val_loss: 2.0260\n",
      "....................................................................................................................................Val Acc: 0.212565\n",
      "epoch 2, lr 0.010000, loss: 2.1804, val_loss: 2.3510\n",
      "....................................................................................................................................Val Acc: 0.306799\n",
      "epoch 3, lr 0.010000, loss: 1.7573, val_loss: 1.9783\n",
      "....................................................................................................................................Val Acc: 0.387263\n",
      "epoch 4, lr 0.010000, loss: 1.7027, val_loss: 1.9151\n",
      "....................................................................................................................................Val Acc: 0.456110\n",
      "epoch 5, lr 0.010000, loss: 1.4384, val_loss: 1.2093\n",
      "....................................................................................................................................Val Acc: 0.505164\n",
      "epoch 6, lr 0.010000, loss: 1.3747, val_loss: 1.6049\n",
      "....................................................................................................................................Val Acc: 0.478916\n",
      "epoch 7, lr 0.010000, loss: 1.2239, val_loss: 1.2431\n",
      "....................................................................................................................................Val Acc: 0.542599\n",
      "epoch 8, lr 0.010000, loss: 1.1289, val_loss: 0.9675\n",
      "....................................................................................................................................Val Acc: 0.591652\n",
      "epoch 9, lr 0.010000, loss: 1.0676, val_loss: 1.0666\n",
      "....................................................................................................................................Val Acc: 0.627367\n",
      "epoch 10, lr 0.010000, loss: 0.8250, val_loss: 1.0097\n",
      "....................................................................................................................................Val Acc: 0.612306\n",
      "epoch 11, lr 0.009000, loss: 0.9944, val_loss: 0.7662\n",
      "....................................................................................................................................Val Acc: 0.697504\n",
      "epoch 12, lr 0.009000, loss: 0.9167, val_loss: 0.5274\n",
      "....................................................................................................................................Val Acc: 0.716007\n",
      "epoch 13, lr 0.009000, loss: 0.5718, val_loss: 0.5757\n",
      "....................................................................................................................................Val Acc: 0.765921\n",
      "epoch 14, lr 0.009000, loss: 0.5573, val_loss: 0.7425\n",
      "....................................................................................................................................Val Acc: 0.734509\n",
      "epoch 15, lr 0.009000, loss: 0.7551, val_loss: 1.0165\n",
      "....................................................................................................................................Val Acc: 0.788296\n",
      "epoch 16, lr 0.009000, loss: 0.4730, val_loss: 0.4652\n",
      "....................................................................................................................................Val Acc: 0.807229\n",
      "epoch 17, lr 0.009000, loss: 0.3609, val_loss: 0.4317\n",
      "....................................................................................................................................Val Acc: 0.819707\n",
      "epoch 18, lr 0.009000, loss: 0.5669, val_loss: 1.0685\n",
      "....................................................................................................................................Val Acc: 0.851549\n",
      "epoch 19, lr 0.009000, loss: 0.3118, val_loss: 0.2549\n",
      "....................................................................................................................................Val Acc: 0.855422\n",
      "epoch 20, lr 0.009000, loss: 0.4320, val_loss: 0.2240\n",
      "....................................................................................................................................Val Acc: 0.807229\n",
      "epoch 21, lr 0.008100, loss: 0.2672, val_loss: 0.6150\n",
      "....................................................................................................................................Val Acc: 0.851549\n",
      "epoch 22, lr 0.008100, loss: 0.2605, val_loss: 0.5711\n",
      "....................................................................................................................................Val Acc: 0.863167\n",
      "epoch 23, lr 0.008100, loss: 0.2655, val_loss: 0.4719\n",
      "....................................................................................................................................Val Acc: 0.888554\n",
      "epoch 24, lr 0.008100, loss: 0.2478, val_loss: 0.2795\n",
      "....................................................................................................................................Val Acc: 0.879088\n",
      "epoch 25, lr 0.008100, loss: 0.2071, val_loss: 0.4259\n",
      "....................................................................................................................................Val Acc: 0.885542\n",
      "epoch 26, lr 0.008100, loss: 0.2420, val_loss: 0.4820\n",
      "....................................................................................................................................Val Acc: 0.896730\n",
      "epoch 27, lr 0.008100, loss: 0.2665, val_loss: 0.1726\n",
      "....................................................................................................................................Val Acc: 0.915663\n",
      "epoch 28, lr 0.008100, loss: 0.1945, val_loss: 0.0940\n",
      "....................................................................................................................................Val Acc: 0.919105\n",
      "epoch 29, lr 0.008100, loss: 0.0377, val_loss: 0.0327\n",
      "....................................................................................................................................Val Acc: 0.918244\n",
      "epoch 30, lr 0.008100, loss: 0.1234, val_loss: 0.0921\n",
      "....................................................................................................................................Val Acc: 0.900172\n",
      "epoch 31, lr 0.007290, loss: 0.1764, val_loss: 1.2151\n",
      "....................................................................................................................................Val Acc: 0.934596\n",
      "epoch 32, lr 0.007290, loss: 0.0642, val_loss: 1.5955\n",
      "....................................................................................................................................Val Acc: 0.923408\n",
      "epoch 33, lr 0.007290, loss: 0.1991, val_loss: 0.1784\n",
      "....................................................................................................................................Val Acc: 0.914372\n",
      "epoch 34, lr 0.007290, loss: 0.1964, val_loss: 0.0462\n",
      "....................................................................................................................................Val Acc: 0.913081\n",
      "epoch 35, lr 0.007290, loss: 0.0752, val_loss: 0.2006\n",
      "....................................................................................................................................Val Acc: 0.907057\n",
      "epoch 36, lr 0.007290, loss: 0.0714, val_loss: 0.9138\n",
      "....................................................................................................................................Val Acc: 0.930723\n",
      "epoch 37, lr 0.007290, loss: 0.0419, val_loss: 0.1180\n",
      "....................................................................................................................................Val Acc: 0.913081\n",
      "epoch 38, lr 0.007290, loss: 0.1332, val_loss: 0.6538\n",
      "....................................................................................................................................Val Acc: 0.922978\n",
      "epoch 39, lr 0.007290, loss: 0.0579, val_loss: 1.1647\n",
      "....................................................................................................................................Val Acc: 0.929862\n",
      "epoch 40, lr 0.007290, loss: 0.0574, val_loss: 0.1522\n"
     ]
    },
    {
     "name": "stdout",
     "output_type": "stream",
     "text": [
      "....................................................................................................................................Val Acc: 0.934165\n",
      "epoch 41, lr 0.006561, loss: 0.1134, val_loss: 0.2129\n",
      "....................................................................................................................................Val Acc: 0.937608\n",
      "epoch 42, lr 0.006561, loss: 0.1771, val_loss: 0.3536\n",
      "....................................................................................................................................Val Acc: 0.937177\n",
      "epoch 43, lr 0.006561, loss: 0.0141, val_loss: 0.3448\n",
      "....................................................................................................................................Val Acc: 0.924269\n",
      "epoch 44, lr 0.006561, loss: 0.1468, val_loss: 0.2182\n",
      "....................................................................................................................................Val Acc: 0.938468\n",
      "epoch 45, lr 0.006561, loss: 0.0492, val_loss: 0.1660\n",
      "....................................................................................................................................Val Acc: 0.933305\n",
      "epoch 46, lr 0.006561, loss: 0.1274, val_loss: 0.2865\n",
      "....................................................................................................................................Val Acc: 0.926420\n",
      "epoch 47, lr 0.006561, loss: 0.0158, val_loss: 0.0894\n",
      "....................................................................................................................................Val Acc: 0.923408\n",
      "epoch 48, lr 0.006561, loss: 0.0238, val_loss: 0.1823\n",
      "....................................................................................................................................Val Acc: 0.922978\n",
      "epoch 49, lr 0.006561, loss: 0.0493, val_loss: 0.3477\n",
      "....................................................................................................................................Val Acc: 0.922117\n",
      "epoch 50, lr 0.006561, loss: 0.0052, val_loss: 1.6831\n",
      "....................................................................................................................................Val Acc: 0.930723\n",
      "epoch 51, lr 0.005905, loss: 0.0441, val_loss: 0.6084\n",
      "....................................................................................................................................Val Acc: 0.947504\n",
      "epoch 52, lr 0.005905, loss: 0.0046, val_loss: 0.0003\n",
      "....................................................................................................................................Val Acc: 0.927281\n",
      "epoch 53, lr 0.005905, loss: 0.0295, val_loss: 1.0941\n",
      "....................................................................................................................................Val Acc: 0.948365\n",
      "epoch 54, lr 0.005905, loss: 0.0321, val_loss: 0.0472\n",
      "....................................................................................................................................Val Acc: 0.937608\n",
      "epoch 55, lr 0.005905, loss: 0.0107, val_loss: 0.0637\n",
      "....................................................................................................................................Val Acc: 0.954389\n",
      "epoch 56, lr 0.005905, loss: 0.0039, val_loss: 0.1112\n",
      "....................................................................................................................................Val Acc: 0.950086\n",
      "epoch 57, lr 0.005905, loss: 0.0301, val_loss: 0.0259\n",
      "....................................................................................................................................Val Acc: 0.934596\n",
      "epoch 58, lr 0.005905, loss: 0.0507, val_loss: 0.4851\n",
      "....................................................................................................................................Val Acc: 0.921687\n",
      "epoch 59, lr 0.005905, loss: 0.0778, val_loss: 0.0043\n",
      "....................................................................................................................................Val Acc: 0.948365\n",
      "epoch 60, lr 0.005905, loss: 0.0687, val_loss: 0.2269\n",
      "....................................................................................................................................Val Acc: 0.945783\n",
      "epoch 61, lr 0.005314, loss: 0.0030, val_loss: 0.0696\n",
      "....................................................................................................................................Val Acc: 0.951377\n",
      "epoch 62, lr 0.005314, loss: 0.0041, val_loss: 0.0013\n",
      "....................................................................................................................................Val Acc: 0.936317\n",
      "epoch 63, lr 0.005314, loss: 0.0672, val_loss: 0.0887\n",
      "....................................................................................................................................Val Acc: 0.924699\n",
      "epoch 64, lr 0.005314, loss: 0.0330, val_loss: 0.6820\n",
      "....................................................................................................................................Val Acc: 0.932444\n",
      "epoch 65, lr 0.005314, loss: 0.0469, val_loss: 0.4691\n",
      "....................................................................................................................................Val Acc: 0.937177\n",
      "epoch 66, lr 0.005314, loss: 0.0015, val_loss: 0.0291\n",
      "....................................................................................................................................Val Acc: 0.927711\n",
      "epoch 67, lr 0.005314, loss: 0.0316, val_loss: 0.2895\n",
      "....................................................................................................................................Val Acc: 0.940620\n",
      "epoch 68, lr 0.005314, loss: 0.0553, val_loss: 0.2432\n",
      "....................................................................................................................................Val Acc: 0.945783\n",
      "epoch 69, lr 0.005314, loss: 0.0036, val_loss: 0.3490\n",
      "....................................................................................................................................Val Acc: 0.947504\n",
      "epoch 70, lr 0.005314, loss: 0.0029, val_loss: 0.2836\n",
      "....................................................................................................................................Val Acc: 0.929002\n",
      "epoch 71, lr 0.004783, loss: 0.0315, val_loss: 0.3208\n",
      "....................................................................................................................................Val Acc: 0.940189\n",
      "epoch 72, lr 0.004783, loss: 0.0741, val_loss: 0.0194\n",
      "....................................................................................................................................Val Acc: 0.956540\n",
      "epoch 73, lr 0.004783, loss: 0.0006, val_loss: 0.5197\n",
      "....................................................................................................................................Val Acc: 0.953528\n",
      "epoch 74, lr 0.004783, loss: 0.0001, val_loss: 0.2036\n",
      "....................................................................................................................................Val Acc: 0.959122\n",
      "epoch 75, lr 0.004783, loss: 0.0003, val_loss: 0.1937\n",
      "....................................................................................................................................Val Acc: 0.960413\n",
      "epoch 76, lr 0.004783, loss: 0.0001, val_loss: 0.0393\n",
      "....................................................................................................................................Val Acc: 0.960413\n",
      "epoch 77, lr 0.004783, loss: 0.0001, val_loss: 0.0775\n",
      "....................................................................................................................................Val Acc: 0.959983\n",
      "epoch 78, lr 0.004783, loss: 0.0001, val_loss: 0.0991\n",
      "....................................................................................................................................Val Acc: 0.960413\n",
      "epoch 79, lr 0.004783, loss: 0.0001, val_loss: 0.0012\n",
      "....................................................................................................................................Val Acc: 0.960413\n",
      "epoch 80, lr 0.004783, loss: 0.0000, val_loss: 0.0000\n"
     ]
    },
    {
     "name": "stdout",
     "output_type": "stream",
     "text": [
      "....................................................................................................................................Val Acc: 0.960843\n",
      "epoch 81, lr 0.004305, loss: 0.0000, val_loss: 0.0010\n",
      "....................................................................................................................................Val Acc: 0.959983\n",
      "epoch 82, lr 0.004305, loss: 0.0000, val_loss: 0.3833\n",
      "....................................................................................................................................Val Acc: 0.960413\n",
      "epoch 83, lr 0.004305, loss: 0.0001, val_loss: 1.1989\n",
      "....................................................................................................................................Val Acc: 0.960843\n",
      "epoch 84, lr 0.004305, loss: 0.0000, val_loss: 0.0234\n",
      "....................................................................................................................................Val Acc: 0.959552\n",
      "epoch 85, lr 0.004305, loss: 0.0000, val_loss: 1.0591\n",
      "....................................................................................................................................Val Acc: 0.959552\n",
      "epoch 86, lr 0.004305, loss: 0.0000, val_loss: 0.0004\n",
      "....................................................................................................................................Val Acc: 0.959983\n",
      "epoch 87, lr 0.004305, loss: 0.0000, val_loss: 0.6701\n",
      "....................................................................................................................................Val Acc: 0.959983\n",
      "epoch 88, lr 0.004305, loss: 0.0000, val_loss: 0.7772\n",
      "....................................................................................................................................Val Acc: 0.960843\n",
      "epoch 89, lr 0.004305, loss: 0.0000, val_loss: 0.2177\n",
      "....................................................................................................................................Val Acc: 0.960413\n",
      "epoch 90, lr 0.004305, loss: 0.0000, val_loss: 0.0000\n",
      "....................................................................................................................................Val Acc: 0.960413\n",
      "epoch 91, lr 0.003874, loss: 0.0000, val_loss: 0.1965\n",
      "....................................................................................................................................Val Acc: 0.959983\n",
      "epoch 92, lr 0.003874, loss: 0.0000, val_loss: 0.0271\n",
      "....................................................................................................................................Val Acc: 0.960843\n",
      "epoch 93, lr 0.003874, loss: 0.0000, val_loss: 0.3990\n",
      "....................................................................................................................................Val Acc: 0.960843\n",
      "epoch 94, lr 0.003874, loss: 0.0000, val_loss: 0.2156\n",
      "....................................................................................................................................Val Acc: 0.960843\n",
      "epoch 95, lr 0.003874, loss: 0.0000, val_loss: 0.0004\n",
      "....................................................................................................................................Val Acc: 0.960413\n",
      "epoch 96, lr 0.003874, loss: 0.0000, val_loss: 0.1879\n",
      "....................................................................................................................................Val Acc: 0.960413\n",
      "epoch 97, lr 0.003874, loss: 0.0000, val_loss: 0.2153\n",
      "....................................................................................................................................Val Acc: 0.959552\n",
      "epoch 98, lr 0.003874, loss: 0.0000, val_loss: 0.0124\n",
      "....................................................................................................................................Val Acc: 0.960843\n",
      "epoch 99, lr 0.003874, loss: 0.0000, val_loss: 0.8073\n",
      "....................................................................................................................................Val Acc: 0.961704\n",
      "epoch 100, lr 0.003874, loss: 0.0000, val_loss: 1.2049\n"
     ]
    }
   ],
   "source": [
    "net.train()\n",
    "num_epoch = 100\n",
    "best_loss = 1e8\n",
    "best_acc = 0\n",
    "train_losses = visdoms.AverageMeter()\n",
    "val_losses = visdoms.AverageMeter()\n",
    "for epoch in range(num_epoch):\n",
    "    #net.train()\n",
    "    for batch_idx, (data, target) in enumerate(trainloader):\n",
    "        #print(data.shape,target)\n",
    "        data = data.to(device, non_blocking=True)\n",
    "        target = target.to(device, non_blocking=True)\n",
    "        optimizer.zero_grad()\n",
    "        output = net(data)\n",
    "        loss = criterion(output, target)\n",
    "        train_losses.update(loss.data.cpu().numpy(), target.size(0))\n",
    "        loss.backward()\n",
    "        optimizer.step()\n",
    "        print('.',  end='')\n",
    "    scheduler.step()\n",
    "        \n",
    "        \n",
    "    plotter.plot('loss', 'train', 'Class Loss', epoch, train_losses.avg)\n",
    "    \n",
    "    net.eval()\n",
    "    correct = 0\n",
    "    with torch.no_grad():\n",
    "        for batch_idx, (data, target) in enumerate(valloader):\n",
    "            data = data.to(device, non_blocking=True)\n",
    "            target = target.to(device, non_blocking=True)\n",
    "            output = net(data)\n",
    "            val_loss = criterion(output, target)\n",
    "            val_losses.update(val_loss.data.cpu().numpy(), target.size(0))\n",
    "            pred = output.data.max(1, keepdim=True)[1]\n",
    "            correct += pred.eq(target.data.view_as(pred)).sum()\n",
    "            print('.',  end='')\n",
    "        acc = correct.item() / len(valloader.dataset)\n",
    "        print(\"Val Acc: %f\"%(acc))\n",
    "\n",
    "        plotter.plot('loss', 'val', 'Class Loss', epoch, val_losses.avg)\n",
    "        plotter.plot('acc', 'val', 'Class Accuracy', epoch, acc)\n",
    "            \n",
    "        print('epoch %d, lr %.6f, loss: %.4f, val_loss: %.4f' %(epoch+1, optimizer.param_groups[0]['lr'], loss.item(), val_loss.item()))\n",
    "        if val_loss.item() < best_loss:\n",
    "            best_loss = val_loss.item()\n",
    "            save_model(net, MODEL_PATH)\n",
    "        if acc > best_acc:\n",
    "            best_acc = acc\n",
    "            save_model(net, ACC_MODEL_PATH)\n",
    "    \n",
    "    "
   ]
  },
  {
   "cell_type": "code",
   "execution_count": 23,
   "metadata": {},
   "outputs": [
    {
     "data": {
      "image/png": "[encoded data removed]",
      "text/plain": [
       "<Figure size 432x288 with 1 Axes>"
      ]
     },
     "metadata": {
      "needs_background": "light"
     },
     "output_type": "display_data"
    }
   ],
   "source": [
    "\n",
    "from matplotlib import pyplot as plt\n",
    "plt.plot(train_losses.arr)\n",
    "plt.plot(val_losses.arr)\n",
    "plt.legend(['training', 'validation'], loc = 'upper left')\n",
    "plt.show()"
   ]
  },
  {
   "cell_type": "markdown",
   "metadata": {},
   "source": [
    "# Load model"
   ]
  },
  {
   "cell_type": "code",
   "execution_count": 24,
   "metadata": {},
   "outputs": [
    {
     "name": "stdout",
     "output_type": "stream",
     "text": [
      "use cuda now!\n"
     ]
    },
    {
     "data": {
      "text/plain": [
       "ResNet(\n",
       "  (conv1): Conv2d(3, 64, kernel_size=(7, 7), stride=(2, 2), padding=(3, 3), bias=False)\n",
       "  (bn1): BatchNorm2d(64, eps=1e-05, momentum=0.1, affine=True, track_running_stats=True)\n",
       "  (relu): ReLU(inplace)\n",
       "  (maxpool): MaxPool2d(kernel_size=3, stride=2, padding=1, dilation=1, ceil_mode=False)\n",
       "  (layer1): Sequential(\n",
       "    (0): Bottleneck(\n",
       "      (conv1): Conv2d(64, 64, kernel_size=(1, 1), stride=(1, 1), bias=False)\n",
       "      (bn1): BatchNorm2d(64, eps=1e-05, momentum=0.1, affine=True, track_running_stats=True)\n",
       "      (conv2): Conv2d(64, 64, kernel_size=(3, 3), stride=(1, 1), padding=(1, 1), bias=False)\n",
       "      (bn2): BatchNorm2d(64, eps=1e-05, momentum=0.1, affine=True, track_running_stats=True)\n",
       "      (conv3): Conv2d(64, 256, kernel_size=(1, 1), stride=(1, 1), bias=False)\n",
       "      (bn3): BatchNorm2d(256, eps=1e-05, momentum=0.1, affine=True, track_running_stats=True)\n",
       "      (relu): ReLU(inplace)\n",
       "      (downsample): Sequential(\n",
       "        (0): Conv2d(64, 256, kernel_size=(1, 1), stride=(1, 1), bias=False)\n",
       "        (1): BatchNorm2d(256, eps=1e-05, momentum=0.1, affine=True, track_running_stats=True)\n",
       "      )\n",
       "    )\n",
       "    (1): Bottleneck(\n",
       "      (conv1): Conv2d(256, 64, kernel_size=(1, 1), stride=(1, 1), bias=False)\n",
       "      (bn1): BatchNorm2d(64, eps=1e-05, momentum=0.1, affine=True, track_running_stats=True)\n",
       "      (conv2): Conv2d(64, 64, kernel_size=(3, 3), stride=(1, 1), padding=(1, 1), bias=False)\n",
       "      (bn2): BatchNorm2d(64, eps=1e-05, momentum=0.1, affine=True, track_running_stats=True)\n",
       "      (conv3): Conv2d(64, 256, kernel_size=(1, 1), stride=(1, 1), bias=False)\n",
       "      (bn3): BatchNorm2d(256, eps=1e-05, momentum=0.1, affine=True, track_running_stats=True)\n",
       "      (relu): ReLU(inplace)\n",
       "    )\n",
       "    (2): Bottleneck(\n",
       "      (conv1): Conv2d(256, 64, kernel_size=(1, 1), stride=(1, 1), bias=False)\n",
       "      (bn1): BatchNorm2d(64, eps=1e-05, momentum=0.1, affine=True, track_running_stats=True)\n",
       "      (conv2): Conv2d(64, 64, kernel_size=(3, 3), stride=(1, 1), padding=(1, 1), bias=False)\n",
       "      (bn2): BatchNorm2d(64, eps=1e-05, momentum=0.1, affine=True, track_running_stats=True)\n",
       "      (conv3): Conv2d(64, 256, kernel_size=(1, 1), stride=(1, 1), bias=False)\n",
       "      (bn3): BatchNorm2d(256, eps=1e-05, momentum=0.1, affine=True, track_running_stats=True)\n",
       "      (relu): ReLU(inplace)\n",
       "    )\n",
       "  )\n",
       "  (layer2): Sequential(\n",
       "    (0): Bottleneck(\n",
       "      (conv1): Conv2d(256, 128, kernel_size=(1, 1), stride=(1, 1), bias=False)\n",
       "      (bn1): BatchNorm2d(128, eps=1e-05, momentum=0.1, affine=True, track_running_stats=True)\n",
       "      (conv2): Conv2d(128, 128, kernel_size=(3, 3), stride=(2, 2), padding=(1, 1), bias=False)\n",
       "      (bn2): BatchNorm2d(128, eps=1e-05, momentum=0.1, affine=True, track_running_stats=True)\n",
       "      (conv3): Conv2d(128, 512, kernel_size=(1, 1), stride=(1, 1), bias=False)\n",
       "      (bn3): BatchNorm2d(512, eps=1e-05, momentum=0.1, affine=True, track_running_stats=True)\n",
       "      (relu): ReLU(inplace)\n",
       "      (downsample): Sequential(\n",
       "        (0): Conv2d(256, 512, kernel_size=(1, 1), stride=(2, 2), bias=False)\n",
       "        (1): BatchNorm2d(512, eps=1e-05, momentum=0.1, affine=True, track_running_stats=True)\n",
       "      )\n",
       "    )\n",
       "    (1): Bottleneck(\n",
       "      (conv1): Conv2d(512, 128, kernel_size=(1, 1), stride=(1, 1), bias=False)\n",
       "      (bn1): BatchNorm2d(128, eps=1e-05, momentum=0.1, affine=True, track_running_stats=True)\n",
       "      (conv2): Conv2d(128, 128, kernel_size=(3, 3), stride=(1, 1), padding=(1, 1), bias=False)\n",
       "      (bn2): BatchNorm2d(128, eps=1e-05, momentum=0.1, affine=True, track_running_stats=True)\n",
       "      (conv3): Conv2d(128, 512, kernel_size=(1, 1), stride=(1, 1), bias=False)\n",
       "      (bn3): BatchNorm2d(512, eps=1e-05, momentum=0.1, affine=True, track_running_stats=True)\n",
       "      (relu): ReLU(inplace)\n",
       "    )\n",
       "    (2): Bottleneck(\n",
       "      (conv1): Conv2d(512, 128, kernel_size=(1, 1), stride=(1, 1), bias=False)\n",
       "      (bn1): BatchNorm2d(128, eps=1e-05, momentum=0.1, affine=True, track_running_stats=True)\n",
       "      (conv2): Conv2d(128, 128, kernel_size=(3, 3), stride=(1, 1), padding=(1, 1), bias=False)\n",
       "      (bn2): BatchNorm2d(128, eps=1e-05, momentum=0.1, affine=True, track_running_stats=True)\n",
       "      (conv3): Conv2d(128, 512, kernel_size=(1, 1), stride=(1, 1), bias=False)\n",
       "      (bn3): BatchNorm2d(512, eps=1e-05, momentum=0.1, affine=True, track_running_stats=True)\n",
       "      (relu): ReLU(inplace)\n",
       "    )\n",
       "    (3): Bottleneck(\n",
       "      (conv1): Conv2d(512, 128, kernel_size=(1, 1), stride=(1, 1), bias=False)\n",
       "      (bn1): BatchNorm2d(128, eps=1e-05, momentum=0.1, affine=True, track_running_stats=True)\n",
       "      (conv2): Conv2d(128, 128, kernel_size=(3, 3), stride=(1, 1), padding=(1, 1), bias=False)\n",
       "      (bn2): BatchNorm2d(128, eps=1e-05, momentum=0.1, affine=True, track_running_stats=True)\n",
       "      (conv3): Conv2d(128, 512, kernel_size=(1, 1), stride=(1, 1), bias=False)\n",
       "      (bn3): BatchNorm2d(512, eps=1e-05, momentum=0.1, affine=True, track_running_stats=True)\n",
       "      (relu): ReLU(inplace)\n",
       "    )\n",
       "  )\n",
       "  (layer3): Sequential(\n",
       "    (0): Bottleneck(\n",
       "      (conv1): Conv2d(512, 256, kernel_size=(1, 1), stride=(1, 1), bias=False)\n",
       "      (bn1): BatchNorm2d(256, eps=1e-05, momentum=0.1, affine=True, track_running_stats=True)\n",
       "      (conv2): Conv2d(256, 256, kernel_size=(3, 3), stride=(2, 2), padding=(1, 1), bias=False)\n",
       "      (bn2): BatchNorm2d(256, eps=1e-05, momentum=0.1, affine=True, track_running_stats=True)\n",
       "      (conv3): Conv2d(256, 1024, kernel_size=(1, 1), stride=(1, 1), bias=False)\n",
       "      (bn3): BatchNorm2d(1024, eps=1e-05, momentum=0.1, affine=True, track_running_stats=True)\n",
       "      (relu): ReLU(inplace)\n",
       "      (downsample): Sequential(\n",
       "        (0): Conv2d(512, 1024, kernel_size=(1, 1), stride=(2, 2), bias=False)\n",
       "        (1): BatchNorm2d(1024, eps=1e-05, momentum=0.1, affine=True, track_running_stats=True)\n",
       "      )\n",
       "    )\n",
       "    (1): Bottleneck(\n",
       "      (conv1): Conv2d(1024, 256, kernel_size=(1, 1), stride=(1, 1), bias=False)\n",
       "      (bn1): BatchNorm2d(256, eps=1e-05, momentum=0.1, affine=True, track_running_stats=True)\n",
       "      (conv2): Conv2d(256, 256, kernel_size=(3, 3), stride=(1, 1), padding=(1, 1), bias=False)\n",
       "      (bn2): BatchNorm2d(256, eps=1e-05, momentum=0.1, affine=True, track_running_stats=True)\n",
       "      (conv3): Conv2d(256, 1024, kernel_size=(1, 1), stride=(1, 1), bias=False)\n",
       "      (bn3): BatchNorm2d(1024, eps=1e-05, momentum=0.1, affine=True, track_running_stats=True)\n",
       "      (relu): ReLU(inplace)\n",
       "    )\n",
       "    (2): Bottleneck(\n",
       "      (conv1): Conv2d(1024, 256, kernel_size=(1, 1), stride=(1, 1), bias=False)\n",
       "      (bn1): BatchNorm2d(256, eps=1e-05, momentum=0.1, affine=True, track_running_stats=True)\n",
       "      (conv2): Conv2d(256, 256, kernel_size=(3, 3), stride=(1, 1), padding=(1, 1), bias=False)\n",
       "      (bn2): BatchNorm2d(256, eps=1e-05, momentum=0.1, affine=True, track_running_stats=True)\n",
       "      (conv3): Conv2d(256, 1024, kernel_size=(1, 1), stride=(1, 1), bias=False)\n",
       "      (bn3): BatchNorm2d(1024, eps=1e-05, momentum=0.1, affine=True, track_running_stats=True)\n",
       "      (relu): ReLU(inplace)\n",
       "    )\n",
       "    (3): Bottleneck(\n",
       "      (conv1): Conv2d(1024, 256, kernel_size=(1, 1), stride=(1, 1), bias=False)\n",
       "      (bn1): BatchNorm2d(256, eps=1e-05, momentum=0.1, affine=True, track_running_stats=True)\n",
       "      (conv2): Conv2d(256, 256, kernel_size=(3, 3), stride=(1, 1), padding=(1, 1), bias=False)\n",
       "      (bn2): BatchNorm2d(256, eps=1e-05, momentum=0.1, affine=True, track_running_stats=True)\n",
       "      (conv3): Conv2d(256, 1024, kernel_size=(1, 1), stride=(1, 1), bias=False)\n",
       "      (bn3): BatchNorm2d(1024, eps=1e-05, momentum=0.1, affine=True, track_running_stats=True)\n",
       "      (relu): ReLU(inplace)\n",
       "    )\n",
       "    (4): Bottleneck(\n",
       "      (conv1): Conv2d(1024, 256, kernel_size=(1, 1), stride=(1, 1), bias=False)\n",
       "      (bn1): BatchNorm2d(256, eps=1e-05, momentum=0.1, affine=True, track_running_stats=True)\n",
       "      (conv2): Conv2d(256, 256, kernel_size=(3, 3), stride=(1, 1), padding=(1, 1), bias=False)\n",
       "      (bn2): BatchNorm2d(256, eps=1e-05, momentum=0.1, affine=True, track_running_stats=True)\n",
       "      (conv3): Conv2d(256, 1024, kernel_size=(1, 1), stride=(1, 1), bias=False)\n",
       "      (bn3): BatchNorm2d(1024, eps=1e-05, momentum=0.1, affine=True, track_running_stats=True)\n",
       "      (relu): ReLU(inplace)\n",
       "    )\n",
       "    (5): Bottleneck(\n",
       "      (conv1): Conv2d(1024, 256, kernel_size=(1, 1), stride=(1, 1), bias=False)\n",
       "      (bn1): BatchNorm2d(256, eps=1e-05, momentum=0.1, affine=True, track_running_stats=True)\n",
       "      (conv2): Conv2d(256, 256, kernel_size=(3, 3), stride=(1, 1), padding=(1, 1), bias=False)\n",
       "      (bn2): BatchNorm2d(256, eps=1e-05, momentum=0.1, affine=True, track_running_stats=True)\n",
       "      (conv3): Conv2d(256, 1024, kernel_size=(1, 1), stride=(1, 1), bias=False)\n",
       "      (bn3): BatchNorm2d(1024, eps=1e-05, momentum=0.1, affine=True, track_running_stats=True)\n",
       "      (relu): ReLU(inplace)\n",
       "    )\n",
       "  )\n",
       "  (layer4): Sequential(\n",
       "    (0): Bottleneck(\n",
       "      (conv1): Conv2d(1024, 512, kernel_size=(1, 1), stride=(1, 1), bias=False)\n",
       "      (bn1): BatchNorm2d(512, eps=1e-05, momentum=0.1, affine=True, track_running_stats=True)\n",
       "      (conv2): Conv2d(512, 512, kernel_size=(3, 3), stride=(2, 2), padding=(1, 1), bias=False)\n",
       "      (bn2): BatchNorm2d(512, eps=1e-05, momentum=0.1, affine=True, track_running_stats=True)\n",
       "      (conv3): Conv2d(512, 2048, kernel_size=(1, 1), stride=(1, 1), bias=False)\n",
       "      (bn3): BatchNorm2d(2048, eps=1e-05, momentum=0.1, affine=True, track_running_stats=True)\n",
       "      (relu): ReLU(inplace)\n",
       "      (downsample): Sequential(\n",
       "        (0): Conv2d(1024, 2048, kernel_size=(1, 1), stride=(2, 2), bias=False)\n",
       "        (1): BatchNorm2d(2048, eps=1e-05, momentum=0.1, affine=True, track_running_stats=True)\n",
       "      )\n",
       "    )\n",
       "    (1): Bottleneck(\n",
       "      (conv1): Conv2d(2048, 512, kernel_size=(1, 1), stride=(1, 1), bias=False)\n",
       "      (bn1): BatchNorm2d(512, eps=1e-05, momentum=0.1, affine=True, track_running_stats=True)\n",
       "      (conv2): Conv2d(512, 512, kernel_size=(3, 3), stride=(1, 1), padding=(1, 1), bias=False)\n",
       "      (bn2): BatchNorm2d(512, eps=1e-05, momentum=0.1, affine=True, track_running_stats=True)\n",
       "      (conv3): Conv2d(512, 2048, kernel_size=(1, 1), stride=(1, 1), bias=False)\n",
       "      (bn3): BatchNorm2d(2048, eps=1e-05, momentum=0.1, affine=True, track_running_stats=True)\n",
       "      (relu): ReLU(inplace)\n",
       "    )\n",
       "    (2): Bottleneck(\n",
       "      (conv1): Conv2d(2048, 512, kernel_size=(1, 1), stride=(1, 1), bias=False)\n",
       "      (bn1): BatchNorm2d(512, eps=1e-05, momentum=0.1, affine=True, track_running_stats=True)\n",
       "      (conv2): Conv2d(512, 512, kernel_size=(3, 3), stride=(1, 1), padding=(1, 1), bias=False)\n",
       "      (bn2): BatchNorm2d(512, eps=1e-05, momentum=0.1, affine=True, track_running_stats=True)\n",
       "      (conv3): Conv2d(512, 2048, kernel_size=(1, 1), stride=(1, 1), bias=False)\n",
       "      (bn3): BatchNorm2d(2048, eps=1e-05, momentum=0.1, affine=True, track_running_stats=True)\n",
       "      (relu): ReLU(inplace)\n",
       "    )\n",
       "  )\n",
       "  (avgpool): AdaptiveAvgPool2d(output_size=(1, 1))\n",
       "  (fc): Linear(in_features=2048, out_features=20, bias=True)\n",
       ")"
      ]
     },
     "execution_count": 24,
     "metadata": {},
     "output_type": "execute_result"
    }
   ],
   "source": [
    "def load_model(model,filename):\n",
    "    model.load_state_dict(torch.load(filename))\n",
    "    return model\n",
    "#net = Net(num_classes=len(traindata.classes)) # initialize your network\n",
    "net = model\n",
    "net = load_model(net, MODEL_PATH)\n",
    "# Whether to use GPU or not?\n",
    "device = 'cpu'\n",
    "if torch.cuda.is_available():\n",
    "    device = 'cuda'\n",
    "else: \n",
    "    device = 'cpu'\n",
    "print(\"use\",device,\"now!\")\n",
    "net.to(device)"
   ]
  },
  {
   "cell_type": "markdown",
   "metadata": {},
   "source": [
    "# Evaluate on validation data"
   ]
  },
  {
   "cell_type": "code",
   "execution_count": 43,
   "metadata": {
    "scrolled": true
   },
   "outputs": [
    {
     "name": "stdout",
     "output_type": "stream",
     "text": [
      "Validation Classification Accuracy: 0.960413\n"
     ]
    },
    {
     "data": {
      "text/plain": [
       "45"
      ]
     },
     "execution_count": 43,
     "metadata": {},
     "output_type": "execute_result"
    }
   ],
   "source": [
    "net.eval()\n",
    "correct = 0\n",
    "vresult = []\n",
    "vtarget = []\n",
    "with torch.no_grad():\n",
    "    for batch_idx, (data, target) in enumerate(valloader):\n",
    "        #print(type(data))\n",
    "        data = data.to(device)\n",
    "        target = target.to(device)\n",
    "        output = net(data)\n",
    "        pred = output.data.max(1, keepdim=True)[1]\n",
    "        \n",
    "        vresult = vresult + list(pred.cpu().numpy().ravel())\n",
    "        vtarget = vtarget + list(target.cpu().numpy().ravel())\n",
    "        \n",
    "        correct += pred.eq(target.data.view_as(pred)).sum()\n",
    "    acc = correct.item() / len(valloader.dataset)\n",
    "print(\"Validation Classification Accuracy: %f\"%(acc))\n",
    "log.write('Validation Classification Accuracy: %f\"%(acc)')"
   ]
  },
  {
   "cell_type": "code",
   "execution_count": 44,
   "metadata": {},
   "outputs": [],
   "source": [
    "import sklearn\n",
    "cm = sklearn.metrics.confusion_matrix(vresult, vtarget)"
   ]
  },
  {
   "cell_type": "code",
   "execution_count": 45,
   "metadata": {},
   "outputs": [
    {
     "data": {
      "image/png": "[encoded data removed]",
      "text/plain": [
       "<Figure size 1800x1800 with 2 Axes>"
      ]
     },
     "metadata": {
      "needs_background": "light"
     },
     "output_type": "display_data"
    }
   ],
   "source": [
    "plot_cm(cm, FIG_PATH, traindata.classes)"
   ]
  },
  {
   "cell_type": "markdown",
   "metadata": {},
   "source": [
    "# Loading Testing Data"
   ]
  },
  {
   "cell_type": "code",
   "execution_count": 29,
   "metadata": {},
   "outputs": [
    {
     "name": "stdout",
     "output_type": "stream",
     "text": [
      "2387\n"
     ]
    }
   ],
   "source": [
    "test_data = np.load('./data/test.npy', allow_pickle=True)\n",
    "print(len(test_data))"
   ]
  },
  {
   "cell_type": "code",
   "execution_count": 30,
   "metadata": {},
   "outputs": [],
   "source": [
    "t_spec = []\n",
    "for t in test_data:\n",
    "    test = pad(t)\n",
    "    test = norm(test)\n",
    "    test = spct(test) \n",
    "    test = tri(test)\n",
    "    test = totensor(test)\n",
    "    t_spec.append(test)"
   ]
  },
  {
   "cell_type": "code",
   "execution_count": 31,
   "metadata": {},
   "outputs": [
    {
     "name": "stdout",
     "output_type": "stream",
     "text": [
      "<class 'torch.Tensor'>\n",
      "<class 'torch.Tensor'>\n"
     ]
    }
   ],
   "source": [
    "print(type(test))\n",
    "print(type(test.data))"
   ]
  },
  {
   "cell_type": "code",
   "execution_count": 32,
   "metadata": {},
   "outputs": [],
   "source": [
    "tensor_x = torch.stack(t_spec)"
   ]
  },
  {
   "cell_type": "code",
   "execution_count": 33,
   "metadata": {},
   "outputs": [
    {
     "data": {
      "text/plain": [
       "tensor(0.)"
      ]
     },
     "execution_count": 33,
     "metadata": {},
     "output_type": "execute_result"
    }
   ],
   "source": [
    "tensor_x[0][0][0][0]"
   ]
  },
  {
   "cell_type": "code",
   "execution_count": 34,
   "metadata": {},
   "outputs": [],
   "source": [
    "test_dataset = torch.utils.data.TensorDataset(tensor_x) # create your datset\n",
    "test_dataloader = torch.utils.data.DataLoader(test_dataset) # create your dataloader"
   ]
  },
  {
   "cell_type": "code",
   "execution_count": 35,
   "metadata": {},
   "outputs": [],
   "source": [
    "net.eval()\n",
    "result = []\n",
    "raw_result = []\n",
    "with torch.no_grad():\n",
    "    for batch_idx, (data, ) in enumerate(test_dataloader):  \n",
    "        data = data.to(device)\n",
    "        #target = target.to(device)\n",
    "        output = net(data)\n",
    "        pred = output.data.max(1, keepdim=True)[1]\n",
    "        #correct += pred.eq(target.data.view_as(pred)).sum()\n",
    "        result = result + list(pred.cpu().numpy().ravel())\n",
    "        raw_result.append(list(output.cpu().numpy().ravel()))\n",
    "    #acc = correct.item() / len(valloader.dataset)\n",
    "#print(\"Validation Classification Accuracy: %f\"%(acc))"
   ]
  },
  {
   "cell_type": "code",
   "execution_count": 36,
   "metadata": {},
   "outputs": [
    {
     "data": {
      "text/plain": [
       "tensor([[-36.3205,  -3.2972,  -9.3700, -10.2346,   6.9578,  -7.0139, -10.3603,\n",
       "           0.4457, -13.5317, -36.6290,  -7.8866, -33.5362, -46.0166, -12.0445,\n",
       "           3.8602,  -1.3889,  -6.4102,  10.0774,   9.6884,  30.0747]],\n",
       "       device='cuda:0')"
      ]
     },
     "execution_count": 36,
     "metadata": {},
     "output_type": "execute_result"
    }
   ],
   "source": [
    "output"
   ]
  },
  {
   "cell_type": "code",
   "execution_count": 37,
   "metadata": {},
   "outputs": [],
   "source": [
    "np.save(NP_PATH, np.asarray(raw_result))"
   ]
  },
  {
   "cell_type": "code",
   "execution_count": 38,
   "metadata": {},
   "outputs": [],
   "source": [
    "result = [corrected_idx2idx[idx] for idx in result]"
   ]
  },
  {
   "cell_type": "code",
   "execution_count": 39,
   "metadata": {},
   "outputs": [],
   "source": [
    "df_dict = {'id': list(range(0 ,len(test_data))), 'category':result}"
   ]
  },
  {
   "cell_type": "code",
   "execution_count": 40,
   "metadata": {},
   "outputs": [],
   "source": [
    "import pandas as pd\n",
    "df = pd.DataFrame(df_dict)"
   ]
  },
  {
   "cell_type": "code",
   "execution_count": 41,
   "metadata": {},
   "outputs": [
    {
     "data": {
      "text/html": [
       "<div>\n",
       "<style scoped>\n",
       "    .dataframe tbody tr th:only-of-type {\n",
       "        vertical-align: middle;\n",
       "    }\n",
       "\n",
       "    .dataframe tbody tr th {\n",
       "        vertical-align: top;\n",
       "    }\n",
       "\n",
       "    .dataframe thead th {\n",
       "        text-align: right;\n",
       "    }\n",
       "</style>\n",
       "<table border=\"1\" class=\"dataframe\">\n",
       "  <thead>\n",
       "    <tr style=\"text-align: right;\">\n",
       "      <th></th>\n",
       "      <th>id</th>\n",
       "      <th>category</th>\n",
       "    </tr>\n",
       "  </thead>\n",
       "  <tbody>\n",
       "    <tr>\n",
       "      <th>0</th>\n",
       "      <td>0</td>\n",
       "      <td>18</td>\n",
       "    </tr>\n",
       "    <tr>\n",
       "      <th>1</th>\n",
       "      <td>1</td>\n",
       "      <td>2</td>\n",
       "    </tr>\n",
       "    <tr>\n",
       "      <th>2</th>\n",
       "      <td>2</td>\n",
       "      <td>18</td>\n",
       "    </tr>\n",
       "    <tr>\n",
       "      <th>3</th>\n",
       "      <td>3</td>\n",
       "      <td>18</td>\n",
       "    </tr>\n",
       "    <tr>\n",
       "      <th>4</th>\n",
       "      <td>4</td>\n",
       "      <td>8</td>\n",
       "    </tr>\n",
       "  </tbody>\n",
       "</table>\n",
       "</div>"
      ],
      "text/plain": [
       "   id  category\n",
       "0   0        18\n",
       "1   1         2\n",
       "2   2        18\n",
       "3   3        18\n",
       "4   4         8"
      ]
     },
     "execution_count": 41,
     "metadata": {},
     "output_type": "execute_result"
    }
   ],
   "source": [
    "df.head()"
   ]
  },
  {
   "cell_type": "code",
   "execution_count": 42,
   "metadata": {},
   "outputs": [],
   "source": [
    "df.to_csv(RESULT_PATH, index=False)"
   ]
  },
  {
   "cell_type": "code",
   "execution_count": null,
   "metadata": {},
   "outputs": [],
   "source": []
  },
  {
   "cell_type": "code",
   "execution_count": null,
   "metadata": {},
   "outputs": [],
   "source": []
  }
 ],
 "metadata": {
  "kernelspec": {
   "display_name": "torch-env",
   "language": "python",
   "name": "torch-env"
  },
  "language_info": {
   "codemirror_mode": {
    "name": "ipython",
    "version": 3
   },
   "file_extension": ".py",
   "mimetype": "text/x-python",
   "name": "python",
   "nbconvert_exporter": "python",
   "pygments_lexer": "ipython3",
   "version": "3.6.9"
  }
 },
 "nbformat": 4,
 "nbformat_minor": 2
}
